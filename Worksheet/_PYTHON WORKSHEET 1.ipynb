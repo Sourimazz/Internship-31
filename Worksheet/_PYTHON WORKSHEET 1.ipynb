{
 "cells": [
  {
   "cell_type": "code",
   "execution_count": 7,
   "id": "79a3d43f",
   "metadata": {},
   "outputs": [],
   "source": [
    "#python program to find the factorial of a number"
   ]
  },
  {
   "cell_type": "code",
   "execution_count": 9,
   "id": "926e8d1c",
   "metadata": {},
   "outputs": [
    {
     "name": "stdout",
     "output_type": "stream",
     "text": [
      "enter a number:5\n",
      "factorial of 5 is: 120\n"
     ]
    }
   ],
   "source": [
    "n= input(\"enter a number:\")\n",
    "factorial = 1\n",
    "if int(n)>= 1:\n",
    "    for i in range (1,int(n)+1):\n",
    "        factorial = factorial*i\n",
    "print(\"factorial of\" ,n, \"is:\" , factorial) "
   ]
  },
  {
   "cell_type": "code",
   "execution_count": null,
   "id": "b417ad6a",
   "metadata": {},
   "outputs": [],
   "source": []
  },
  {
   "cell_type": "code",
   "execution_count": null,
   "id": "6aabe5af",
   "metadata": {},
   "outputs": [],
   "source": []
  },
  {
   "cell_type": "code",
   "execution_count": 10,
   "id": "67c9d6f7",
   "metadata": {},
   "outputs": [],
   "source": [
    "#python program to find whether a number is prime or composite"
   ]
  },
  {
   "cell_type": "code",
   "execution_count": 11,
   "id": "130b734c",
   "metadata": {},
   "outputs": [
    {
     "name": "stdout",
     "output_type": "stream",
     "text": [
      "enter any number:5\n",
      "5 is a prime number \n",
      "5 is a prime number \n",
      "5 is a prime number \n"
     ]
    }
   ],
   "source": [
    "number = int(input(\"enter any number:\"))\n",
    "if number > 1:\n",
    "    for i in range(2, number):\n",
    "        if (number%i)==0:\n",
    "            print(number,\"is a composite number\")\n",
    "            break\n",
    "        else:\n",
    "            print(number,\"is a prime number \")\n",
    " "
   ]
  },
  {
   "cell_type": "code",
   "execution_count": null,
   "id": "d9819096",
   "metadata": {},
   "outputs": [],
   "source": []
  },
  {
   "cell_type": "code",
   "execution_count": null,
   "id": "9568dae9",
   "metadata": {},
   "outputs": [],
   "source": []
  },
  {
   "cell_type": "code",
   "execution_count": 12,
   "id": "2df05393",
   "metadata": {},
   "outputs": [],
   "source": [
    " # python program to check whether a given string is palindrome or not"
   ]
  },
  {
   "cell_type": "code",
   "execution_count": 14,
   "id": "0099f32b",
   "metadata": {},
   "outputs": [
    {
     "name": "stdout",
     "output_type": "stream",
     "text": [
      "MOM is : Palindrome\n",
      "string: MOM\n",
      "rev: MOM\n"
     ]
    }
   ],
   "source": [
    "input = \"MOM\"\n",
    "# this will automatically generate reverse\n",
    "rev = \"\"\n",
    "for ch in input:\n",
    "    rev = ch + rev\n",
    "\n",
    "print(input + \" is : \", end=\"\")\n",
    "print(\"Palindrome\") if input == rev else print(\"Not Palindrome\")\n",
    "\n",
    "print(\"string: \" + input)\n",
    "print(\"rev: \" + rev)"
   ]
  },
  {
   "cell_type": "code",
   "execution_count": null,
   "id": "79256fe8",
   "metadata": {},
   "outputs": [],
   "source": [
    " "
   ]
  },
  {
   "cell_type": "code",
   "execution_count": null,
   "id": "3d7b460b",
   "metadata": {},
   "outputs": [],
   "source": []
  },
  {
   "cell_type": "code",
   "execution_count": 15,
   "id": "863a4752",
   "metadata": {},
   "outputs": [],
   "source": [
    "# Python program to get the third side of right-angled triangle from two given sides."
   ]
  },
  {
   "cell_type": "code",
   "execution_count": 16,
   "id": "1e2b9136",
   "metadata": {},
   "outputs": [
    {
     "name": "stdout",
     "output_type": "stream",
     "text": [
      "Hypotenuse = 5.0\n",
      "Adjacent = 4.0\n",
      "Opposite = 3.0\n",
      "answer of third side \n"
     ]
    }
   ],
   "source": [
    "def pythagoras(opposite_side,adjacent_side,hypotenuse):\n",
    "        if opposite_side == str(\"x\"):\n",
    "            return (\"Opposite = \" + str(((hypotenuse**2) - (adjacent_side**2))**0.5))\n",
    "        elif adjacent_side == str(\"x\"):\n",
    "            return (\"Adjacent = \" + str(((hypotenuse**2) - (opposite_side**2))**0.5))\n",
    "        elif hypotenuse == str(\"x\"):\n",
    "            return (\"Hypotenuse = \" + str(((opposite_side**2) + (adjacent_side**2))**0.5))\n",
    "        else:\n",
    "            return \"answer of third side \"\n",
    "    \n",
    "print(pythagoras(3,4,'x'))\n",
    "print(pythagoras(3,'x',5))\n",
    "print(pythagoras('x',4,5))\n",
    "print(pythagoras(3,4,5))"
   ]
  },
  {
   "cell_type": "code",
   "execution_count": null,
   "id": "a2c8198c",
   "metadata": {},
   "outputs": [],
   "source": []
  },
  {
   "cell_type": "code",
   "execution_count": null,
   "id": "cc398dd8",
   "metadata": {},
   "outputs": [],
   "source": []
  },
  {
   "cell_type": "code",
   "execution_count": 17,
   "id": "c43e90ac",
   "metadata": {},
   "outputs": [],
   "source": [
    "# python program to print the frequency of each of the characters present in a given string"
   ]
  },
  {
   "cell_type": "code",
   "execution_count": 18,
   "id": "b22b3978",
   "metadata": {},
   "outputs": [
    {
     "name": "stdout",
     "output_type": "stream",
     "text": [
      "Given String:  fliprobotechnologies\n",
      "Frequency of each character :\n",
      "  {'l': 2, 'f': 1, 'o': 4, 'p': 1, 'n': 1, 'e': 2, 'i': 2, 'g': 1, 's': 1, 't': 1, 'h': 1, 'r': 1, 'b': 1, 'c': 1}\n"
     ]
    }
   ],
   "source": [
    "strA = \"fliprobotechnologies\"\n",
    "print(\"Given String: \",strA)\n",
    "# Using counter\n",
    "val = {}\n",
    "\n",
    "val={n: strA.count(n) for n in set(strA)}\n",
    "\n",
    "# Result\n",
    "print(\"Frequency of each character :\\n \",val)"
   ]
  },
  {
   "cell_type": "code",
   "execution_count": null,
   "id": "0496aa58",
   "metadata": {},
   "outputs": [],
   "source": []
  }
 ],
 "metadata": {
  "kernelspec": {
   "display_name": "Python 3 (ipykernel)",
   "language": "python",
   "name": "python3"
  },
  "language_info": {
   "codemirror_mode": {
    "name": "ipython",
    "version": 3
   },
   "file_extension": ".py",
   "mimetype": "text/x-python",
   "name": "python",
   "nbconvert_exporter": "python",
   "pygments_lexer": "ipython3",
   "version": "3.9.7"
  }
 },
 "nbformat": 4,
 "nbformat_minor": 5
}
